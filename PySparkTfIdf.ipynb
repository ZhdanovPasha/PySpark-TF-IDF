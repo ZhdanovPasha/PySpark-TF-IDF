{
 "cells": [
  {
   "cell_type": "markdown",
   "metadata": {
    "id": "tB7dnwcsZk3_"
   },
   "source": [
    "# PySpark TF-IDF implementation"
   ]
  },
  {
   "cell_type": "markdown",
   "metadata": {
    "id": "06Zv4LPWNWk1"
   },
   "source": [
    "Stages:\n",
    "\n",
    "\n",
    "*   Convert all characters to lowercase; \n",
    "*   Remove special characters;\n",
    "*   Count frequency of every word in documents;\n",
    "*   Count number of documents with words;\n",
    "*   Use only top 100 frequent words;\n",
    "*   Join two tables with TF and DF and count TF-IDF;\n",
    "*   Pivot final table.\n"
   ]
  },
  {
   "cell_type": "code",
   "execution_count": 1,
   "metadata": {
    "id": "aJA5dM7Ov_nj"
   },
   "outputs": [],
   "source": [
    "# install Java8\n",
    "!apt-get install openjdk-8-jdk-headless -qq > /dev/null\n",
    "# download spark3.0.0\n",
    "!wget -q  https://downloads.apache.org/spark/spark-3.0.1/spark-3.0.1-bin-hadoop2.7.tgz\n",
    "# unzip it\n",
    "!tar xf spark-3.0.1-bin-hadoop2.7.tgz\n",
    "# install findspark \n",
    "!pip install -q findspark"
   ]
  },
  {
   "cell_type": "code",
   "execution_count": 2,
   "metadata": {
    "id": "WoNgLYvYwQyK"
   },
   "outputs": [],
   "source": [
    "import os\n",
    "os.environ[\"JAVA_HOME\"] = \"/usr/lib/jvm/java-8-openjdk-amd64\"\n",
    "os.environ[\"SPARK_HOME\"] = \"/content/spark-3.0.1-bin-hadoop2.7\""
   ]
  },
  {
   "cell_type": "code",
   "execution_count": 3,
   "metadata": {
    "id": "TcqkOK8SD60S"
   },
   "outputs": [],
   "source": [
    "import findspark\n",
    "findspark.init()\n",
    "from pyspark.sql import SparkSession\n",
    "import pyspark.sql.functions as F\n",
    "import pyspark.sql.types as T\n",
    "\n",
    "spark = SparkSession.builder.master(\"local[*]\").getOrCreate()"
   ]
  },
  {
   "cell_type": "code",
   "execution_count": 4,
   "metadata": {
    "colab": {
     "base_uri": "https://localhost:8080/"
    },
    "id": "2_1mUDi__7E-",
    "outputId": "a467e12d-e47b-48f5-d1cd-ed9124a8c0e6"
   },
   "outputs": [
    {
     "name": "stdout",
     "output_type": "stream",
     "text": [
      "+--------------------+------+\n",
      "|              Review|Rating|\n",
      "+--------------------+------+\n",
      "|nice hotel expens...|     4|\n",
      "|ok nothing specia...|     2|\n",
      "|nice rooms not 4*...|     3|\n",
      "|unique, great sta...|     5|\n",
      "|great stay great ...|     5|\n",
      "|love monaco staff...|     5|\n",
      "|cozy stay rainy c...|     5|\n",
      "|excellent staff, ...|     4|\n",
      "|hotel stayed hote...|     5|\n",
      "|excellent stayed ...|     5|\n",
      "|poor value stayed...|     2|\n",
      "|nice value seattl...|     4|\n",
      "|nice hotel good l...|     4|\n",
      "|nice hotel not ni...|     3|\n",
      "|great hotel night...|     4|\n",
      "|horrible customer...|     1|\n",
      "|disappointed say ...|     2|\n",
      "|fantastic stay mo...|     5|\n",
      "|good choice hotel...|     5|\n",
      "|hmmmmm say really...|     3|\n",
      "+--------------------+------+\n",
      "only showing top 20 rows\n",
      "\n"
     ]
    }
   ],
   "source": [
    "df = spark.read.csv(\"tripadvisor_hotel_reviews.csv\", header=True)\n",
    "df.show()"
   ]
  },
  {
   "cell_type": "code",
   "execution_count": 5,
   "metadata": {
    "colab": {
     "base_uri": "https://localhost:8080/"
    },
    "id": "2xeSiXt-AxL_",
    "outputId": "2334d910-2254-4d75-96d9-d9d8e4044d97"
   },
   "outputs": [
    {
     "name": "stdout",
     "output_type": "stream",
     "text": [
      "+--------------------+------+--------------------+\n",
      "|              Review|Rating|               Words|\n",
      "+--------------------+------+--------------------+\n",
      "|nice hotel expens...|     4|[nice, hotel, exp...|\n",
      "|ok nothing specia...|     2|[ok, nothing, spe...|\n",
      "|nice rooms not  e...|     3|[nice, rooms, not...|\n",
      "|unique great stay...|     5|[unique, great, s...|\n",
      "|great stay great ...|     5|[great, stay, gre...|\n",
      "|love monaco staff...|     5|[love, monaco, st...|\n",
      "|cozy stay rainy c...|     5|[cozy, stay, rain...|\n",
      "|excellent staff h...|     4|[excellent, staff...|\n",
      "|hotel stayed hote...|     5|[hotel, stayed, h...|\n",
      "|excellent stayed ...|     5|[excellent, staye...|\n",
      "|poor value stayed...|     2|[poor, value, sta...|\n",
      "|nice value seattl...|     4|[nice, value, sea...|\n",
      "|nice hotel good l...|     4|[nice, hotel, goo...|\n",
      "|nice hotel not ni...|     3|[nice, hotel, not...|\n",
      "|great hotel night...|     4|[great, hotel, ni...|\n",
      "|horrible customer...|     1|[horrible, custom...|\n",
      "|disappointed say ...|     2|[disappointed, sa...|\n",
      "|fantastic stay mo...|     5|[fantastic, stay,...|\n",
      "|good choice hotel...|     5|[good, choice, ho...|\n",
      "|hmmmmm say really...|     3|[hmmmmm, say, rea...|\n",
      "+--------------------+------+--------------------+\n",
      "only showing top 20 rows\n",
      "\n"
     ]
    }
   ],
   "source": [
    "df = (\n",
    "    df\n",
    "    .withColumn(\n",
    "        'Review', \n",
    "        F.lower(F.col('Review'))\n",
    "    )\n",
    "    .withColumn(\n",
    "        'Review',\n",
    "        F.regexp_replace(\n",
    "            F.col(\"Review\"), \n",
    "            \"[^a-z ]\", \n",
    "            \"\"\n",
    "        )\n",
    "    )\n",
    "    .withColumn(\n",
    "        'Words',\n",
    "        F.split(\n",
    "            F.col('Review'),\n",
    "            pattern=' ',\n",
    "        )\n",
    "    )\n",
    ")\n",
    "\n",
    "df.show()"
   ]
  },
  {
   "cell_type": "code",
   "execution_count": 6,
   "metadata": {
    "colab": {
     "base_uri": "https://localhost:8080/"
    },
    "id": "5Xq8fNdxFWwh",
    "outputId": "88221f06-d8a3-40cb-d89d-a2c38f032d68"
   },
   "outputs": [
    {
     "name": "stdout",
     "output_type": "stream",
     "text": [
      "+-----------+-----------+-----------------------+\n",
      "|Document_ID|      Token|Token_in_document_count|\n",
      "+-----------+-----------+-----------------------+\n",
      "|          0|       nice|                      5|\n",
      "|          0|    parking|                      3|\n",
      "|          0|       room|                      3|\n",
      "|          0|        did|                      2|\n",
      "|          0|      hotel|                      2|\n",
      "|          0|      night|                      2|\n",
      "|          0|        not|                      2|\n",
      "|          0|       stay|                      2|\n",
      "|          0|  advantage|                      1|\n",
      "|          0|     advice|                      1|\n",
      "|          0|anniversary|                      1|\n",
      "|          0|    arrived|                      1|\n",
      "|          0|      aveda|                      1|\n",
      "|          0|      bangs|                      1|\n",
      "|          0|       bath|                      1|\n",
      "|          0|        bed|                      1|\n",
      "|          0|      check|                      1|\n",
      "|          0|      clean|                      1|\n",
      "|          0|    closing|                      1|\n",
      "|          0|comfortable|                      1|\n",
      "+-----------+-----------+-----------------------+\n",
      "only showing top 20 rows\n",
      "\n"
     ]
    }
   ],
   "source": [
    "tf_table = (\n",
    "    df\n",
    "    .select(['Words'])\n",
    "    .withColumnRenamed(\n",
    "        'Words',\n",
    "        'Tokens',\n",
    "    )\n",
    "    .withColumn(\n",
    "        'Document_ID',\n",
    "        F.monotonically_increasing_id()\n",
    "    )\n",
    "    .withColumn(\n",
    "        'Token',\n",
    "        F.explode(F.col('Tokens'))\n",
    "    )\n",
    "    .groupBy(\n",
    "        [F.col('Document_ID'), F.col('Token')]\n",
    "    )\n",
    "    .agg(\n",
    "        {\"Token\": 'count'}\n",
    "    )\n",
    "    .withColumnRenamed(\n",
    "        'count(Token)',\n",
    "        'Token_in_document_count'\n",
    "    )\n",
    "    .filter(\n",
    "        F.col('Token') != ''\n",
    "    )\n",
    "    .orderBy(\n",
    "        F.col('Document_ID'),\n",
    "        F.col('Token_in_document_count').desc(),\n",
    "        F.col('Token'),\n",
    "    ) \n",
    ")\n",
    "\n",
    "tf_table.show()"
   ]
  },
  {
   "cell_type": "code",
   "execution_count": 7,
   "metadata": {
    "colab": {
     "base_uri": "https://localhost:8080/"
    },
    "id": "czYJSBftL0Bt",
    "outputId": "16296bf0-aaaa-4d57-b15c-34d19f6f90bf"
   },
   "outputs": [
    {
     "name": "stdout",
     "output_type": "stream",
     "text": [
      "+---------+----------------------------+---------------+\n",
      "|    Token|Token_in_all_documents_count|Documents_count|\n",
      "+---------+----------------------------+---------------+\n",
      "|    hotel|                       16325|          20491|\n",
      "|     room|                       14056|          20491|\n",
      "|      not|                       12124|          20491|\n",
      "|    staff|                       11528|          20491|\n",
      "|    great|                       11021|          20491|\n",
      "|     stay|                       10096|          20491|\n",
      "|     good|                        9280|          20491|\n",
      "|   stayed|                        8552|          20491|\n",
      "|       nt|                        8383|          20491|\n",
      "|    rooms|                        8341|          20491|\n",
      "| location|                        8172|          20491|\n",
      "|     just|                        7736|          20491|\n",
      "|    clean|                        7651|          20491|\n",
      "|     nice|                        7420|          20491|\n",
      "|      did|                        7207|          20491|\n",
      "|breakfast|                        7113|          20491|\n",
      "|       no|                        6818|          20491|\n",
      "|    night|                        6479|          20491|\n",
      "|  service|                        6232|          20491|\n",
      "|     time|                        6155|          20491|\n",
      "+---------+----------------------------+---------------+\n",
      "only showing top 20 rows\n",
      "\n"
     ]
    }
   ],
   "source": [
    "idf_table = (\n",
    "    tf_table\n",
    "    .groupby('Token')\n",
    "    .agg(\n",
    "        {'Document_ID': 'count'}\n",
    "    )\n",
    "    .withColumnRenamed(\n",
    "        'count(Document_ID)',\n",
    "        'Token_in_all_documents_count'\n",
    "    )\n",
    "    .orderBy(\n",
    "        F.col('Token_in_all_documents_count').desc()\n",
    "    )\n",
    "    .limit(100)\n",
    "    .withColumn(\n",
    "        'Documents_count',\n",
    "        F.lit(df.count())\n",
    "    )\n",
    ")\n",
    "\n",
    "idf_table.show()"
   ]
  },
  {
   "cell_type": "code",
   "execution_count": 8,
   "metadata": {
    "colab": {
     "base_uri": "https://localhost:8080/"
    },
    "id": "G9r8R7eIRrRy",
    "outputId": "cadba103-0d86-4e70-94cf-15939945f940"
   },
   "outputs": [
    {
     "name": "stdout",
     "output_type": "stream",
     "text": [
      "+----------+-----------+-----------------------+------------+----------------------------+---------------+\n",
      "|     Token|Document_ID|Token_in_document_count|Tokens_count|Token_in_all_documents_count|Documents_count|\n",
      "+----------+-----------+-----------------------+------------+----------------------------+---------------+\n",
      "|      room|          0|                      3|          86|                       14056|          20491|\n",
      "|    better|          1|                      2|         243|                        3244|          20491|\n",
      "|attractive|          6|                      1|          98|                        null|           null|\n",
      "|  positive|          6|                      1|          98|                        null|           null|\n",
      "| concierge|          7|                      2|          85|                        null|           null|\n",
      "|        nt|         10|                      2|          44|                        8383|          20491|\n",
      "|     clean|         12|                      1|          84|                        7651|          20491|\n",
      "|   concert|         12|                      1|          84|                        null|           null|\n",
      "|      stay|         15|                      2|         209|                       10096|          20491|\n",
      "|      desk|         16|                      6|         237|                        3192|          20491|\n",
      "|       bed|         19|                      1|         151|                        3783|          20491|\n",
      "| excellent|         30|                      1|          37|                        4424|          20491|\n",
      "|    really|         32|                      1|          82|                        4883|          20491|\n",
      "| cringeshe|         44|                      1|          36|                        null|           null|\n",
      "|      mind|         46|                      1|          68|                        null|           null|\n",
      "|    pretty|         51|                      1|          84|                        null|           null|\n",
      "|     steer|         52|                      1|          64|                        null|           null|\n",
      "|     tacky|         54|                      1|         125|                        null|           null|\n",
      "|   staying|         58|                      1|          36|                        null|           null|\n",
      "|       etc|         63|                      1|          96|                        null|           null|\n",
      "+----------+-----------+-----------------------+------------+----------------------------+---------------+\n",
      "only showing top 20 rows\n",
      "\n"
     ]
    }
   ],
   "source": [
    "tf_idf_table = (\n",
    "    tf_table\n",
    "    .join(\n",
    "        (\n",
    "            tf_table\n",
    "            .groupBy('Document_ID')\n",
    "            .agg(\n",
    "                {\"Token_in_document_count\": \"sum\"}\n",
    "            )\n",
    "            .withColumnRenamed(\n",
    "                'sum(Token_in_document_count)',\n",
    "                'Tokens_count'\n",
    "            )\n",
    "        ),\n",
    "        on='Document_ID',\n",
    "        how='left'\n",
    "    )\n",
    "    .join(\n",
    "        idf_table,\n",
    "        on='Token',\n",
    "        how='left'\n",
    "    )\n",
    ")\n",
    "\n",
    "tf_idf_table.show()"
   ]
  },
  {
   "cell_type": "code",
   "execution_count": 9,
   "metadata": {
    "colab": {
     "base_uri": "https://localhost:8080/"
    },
    "id": "7wDhGsJqF69K",
    "outputId": "879cd471-142b-442b-bb5e-9c7ad0f442bf"
   },
   "outputs": [
    {
     "name": "stdout",
     "output_type": "stream",
     "text": [
      "+---------+-----------+--------------------+\n",
      "|    Token|Document_ID|              TF-IDF|\n",
      "+---------+-----------+--------------------+\n",
      "|     room|          0|0.018969917298355492|\n",
      "|   better|          1|   0.021885964343023|\n",
      "|       nt|         10| 0.05861144808162943|\n",
      "|    clean|         12|0.016919882906726882|\n",
      "|     stay|         15|0.009772311740784861|\n",
      "|     desk|         16| 0.06791032495372712|\n",
      "|      bed|         19|0.016141640469173452|\n",
      "|excellent|         30| 0.05977208382864487|\n",
      "|   really|         32|0.025233545234842725|\n",
      "|   street|         70| 0.09023604479773865|\n",
      "|      bed|         80|0.024871303171889705|\n",
      "|      day|        116|0.025712667815178728|\n",
      "|     just|        125| 0.02066662782967244|\n",
      "|   little|        133|0.027726300229127476|\n",
      "|   hotels|        146| 0.01870759696543231|\n",
      "|      did|        153|0.007976294401516069|\n",
      "|  walking|        173| 0.05654406021356884|\n",
      "|       no|        176|  0.0078983576505205|\n",
      "| bathroom|        189| 0.10309538426972249|\n",
      "|      day|        207|0.020512352976153815|\n",
      "+---------+-----------+--------------------+\n",
      "only showing top 20 rows\n",
      "\n"
     ]
    }
   ],
   "source": [
    "tf_idf_table = (\n",
    "    tf_idf_table\n",
    "    .na\n",
    "    .drop(\n",
    "        subset=['Token_in_all_documents_count']\n",
    "    )\n",
    "    .withColumn(\n",
    "        'TF',\n",
    "        F.col('Token_in_document_count') / F.col('Tokens_count')\n",
    "    )\n",
    "    .withColumn(\n",
    "        'IDF',\n",
    "        F.log2(F.col('Documents_count') / F.col('Token_in_all_documents_count'))\n",
    "    )\n",
    "    .withColumn(\n",
    "        'TF-IDF',\n",
    "        F.col('TF') * F.col('IDF')\n",
    "    )\n",
    ")\n",
    "\n",
    "(\n",
    "    tf_idf_table\n",
    "    .select(['Token', 'Document_ID', 'TF-IDF'])\n",
    "    .show()\n",
    ")"
   ]
  },
  {
   "cell_type": "code",
   "execution_count": 10,
   "metadata": {
    "colab": {
     "base_uri": "https://localhost:8080/"
    },
    "id": "V9VQS6UzLS45",
    "outputId": "0c0887ac-dfbc-45bc-867a-e60c4ef10c59"
   },
   "outputs": [
    {
     "data": {
      "text/plain": [
       "444239"
      ]
     },
     "execution_count": 10,
     "metadata": {
      "tags": []
     },
     "output_type": "execute_result"
    }
   ],
   "source": [
    "tf_idf_table.count()"
   ]
  },
  {
   "cell_type": "code",
   "execution_count": 11,
   "metadata": {
    "colab": {
     "base_uri": "https://localhost:8080/"
    },
    "id": "M_LCaBilJBym",
    "outputId": "890eaf94-7ad7-4ed1-8bb7-dba02a2ced46"
   },
   "outputs": [
    {
     "name": "stdout",
     "output_type": "stream",
     "text": [
      "+------+--------------------+-----------------+-------------------+--------------------+--------------------+\n",
      "| Token|                   0|                1|                 10|                  12|                  15|\n",
      "+------+--------------------+-----------------+-------------------+--------------------+--------------------+\n",
      "|  room|0.018969917298355492|             null|               null|                null|                null|\n",
      "|better|                null|0.021885964343023|               null|                null|                null|\n",
      "|    nt|                null|             null|0.05861144808162943|                null|                null|\n",
      "| clean|                null|             null|               null|0.016919882906726882|                null|\n",
      "|  stay|                null|             null|               null|                null|0.009772311740784861|\n",
      "+------+--------------------+-----------------+-------------------+--------------------+--------------------+\n",
      "\n"
     ]
    }
   ],
   "source": [
    "(\n",
    "    tf_idf_table\n",
    "    .limit(5)\n",
    "    .groupBy('Token')\n",
    "    .pivot('Document_ID')\n",
    "    .agg(\n",
    "        F.first(F.col('TF-IDF'))\n",
    "    )\n",
    "    .show()\n",
    ")"
   ]
  }
 ],
 "metadata": {
  "colab": {
   "collapsed_sections": [],
   "name": "PySparkTfIdf.ipynb",
   "provenance": [],
   "toc_visible": true
  },
  "kernelspec": {
   "display_name": "Python 3",
   "language": "python",
   "name": "python3"
  },
  "language_info": {
   "codemirror_mode": {
    "name": "ipython",
    "version": 3
   },
   "file_extension": ".py",
   "mimetype": "text/x-python",
   "name": "python",
   "nbconvert_exporter": "python",
   "pygments_lexer": "ipython3",
   "version": "3.7.3"
  }
 },
 "nbformat": 4,
 "nbformat_minor": 1
}
